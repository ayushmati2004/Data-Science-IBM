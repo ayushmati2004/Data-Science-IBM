{
 "cells": [
  {
   "cell_type": "markdown",
   "id": "fc21a3ea-b316-4c2f-9cc3-28bc0a62ff9c",
   "metadata": {},
   "source": [
    "# Data Science Tools and Ecosystem"
   ]
  },
  {
   "cell_type": "markdown",
   "id": "b6310aea-85dd-43f1-836c-da2d677a3510",
   "metadata": {},
   "source": [
    "## Objectives:"
   ]
  },
  {
   "cell_type": "markdown",
   "id": "d470c5d2-653c-4377-ac54-49e6575a6f5c",
   "metadata": {},
   "source": [
    "* List popular languages for Data Science\n",
    "* List popular library for Data Science\n",
    "* list of Data Science tools for  IDEs\n",
    "* few examples of evaluating arithmetic expressions in Python"
   ]
  },
  {
   "cell_type": "markdown",
   "id": "4b59da9e-e494-4a69-90db-aac5ff9b4d12",
   "metadata": {},
   "source": [
    "## In this notebook, Data Science Tools and Ecosystem are summarized."
   ]
  },
  {
   "cell_type": "markdown",
   "id": "4e735f89-f0cc-48db-af3f-3cfd903fe69d",
   "metadata": {},
   "source": [
    "#### Some of the popular languages that Data Scientists use are:"
   ]
  },
  {
   "cell_type": "markdown",
   "id": "97b0d965-2ad1-4724-8153-b5aba47d6c00",
   "metadata": {},
   "source": [
    "1. Python\n",
    "2. R\n",
    "3. Julia\n",
    "4. SQL"
   ]
  },
  {
   "cell_type": "markdown",
   "id": "ee8c7f8d-203c-4f4b-a096-40859e65b1f2",
   "metadata": {},
   "source": [
    "#### Some of the commonly used libraries used by Data Scientists include:"
   ]
  },
  {
   "cell_type": "markdown",
   "id": "7ff28c92-97cc-4a51-be6b-a710ced58f1c",
   "metadata": {},
   "source": [
    "1. NumPy\n",
    "2. Panda\n",
    "3. Matplotlib\n",
    "4. Seaborn\n",
    "5. Scikit-learn\n",
    "6. Keras\n",
    "7. Tensorflow\n",
    "8. Pytorch"
   ]
  },
  {
   "cell_type": "markdown",
   "id": "bd2c62b3-5289-4e88-83fd-dc5b33b5ae37",
   "metadata": {},
   "source": [
    "| Data Science Tools |\n",
    "|--------------------|\n",
    "| IBM Watson Studio  |\n",
    "|      Jupyter       |\n",
    "|  Apache Zepplin    |"
   ]
  },
  {
   "cell_type": "markdown",
   "id": "2156c3ad-da22-497d-af21-e29fa2a275ab",
   "metadata": {},
   "source": [
    "### Below are a few examples of evaluating arithmetic expressions in Python"
   ]
  },
  {
   "cell_type": "code",
   "execution_count": 2,
   "id": "8973587c-2d7a-46c0-8c97-546375b04655",
   "metadata": {
    "tags": []
   },
   "outputs": [
    {
     "data": {
      "text/plain": [
       "17"
      ]
     },
     "execution_count": 2,
     "metadata": {},
     "output_type": "execute_result"
    }
   ],
   "source": [
    "# This a simple arithmetic expression to mutiply then add integers\n",
    "(3*4)+5"
   ]
  },
  {
   "cell_type": "code",
   "execution_count": 3,
   "id": "6b8da5b4-11e7-4d74-b5a1-c506fc6617b6",
   "metadata": {
    "tags": []
   },
   "outputs": [
    {
     "data": {
      "text/plain": [
       "3.3333333333333335"
      ]
     },
     "execution_count": 3,
     "metadata": {},
     "output_type": "execute_result"
    }
   ],
   "source": [
    "# This will convert 200 minutes to hours by diving by 60\n",
    "200 / 60"
   ]
  },
  {
   "cell_type": "markdown",
   "id": "6da91322-dbfd-46cc-a59d-64f8d15e2e05",
   "metadata": {},
   "source": [
    "## Author"
   ]
  },
  {
   "cell_type": "markdown",
   "id": "03483deb-8465-4722-a37c-30ea1b6de56c",
   "metadata": {},
   "source": [
    "##### Ayush Mati\n"
   ]
  },
  {
   "cell_type": "code",
   "execution_count": null,
   "id": "0c602712-7e49-4377-8f07-3fef84a6c675",
   "metadata": {},
   "outputs": [],
   "source": []
  }
 ],
 "metadata": {
  "kernelspec": {
   "display_name": "Python",
   "language": "python",
   "name": "conda-env-python-py"
  },
  "language_info": {
   "codemirror_mode": {
    "name": "ipython",
    "version": 3
   },
   "file_extension": ".py",
   "mimetype": "text/x-python",
   "name": "python",
   "nbconvert_exporter": "python",
   "pygments_lexer": "ipython3",
   "version": "3.7.12"
  }
 },
 "nbformat": 4,
 "nbformat_minor": 5
}
